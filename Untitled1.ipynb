{
 "cells": [
  {
   "cell_type": "code",
   "execution_count": 5,
   "id": "2db7129a-b228-46b9-8bf1-34db150b6fe1",
   "metadata": {},
   "outputs": [
    {
     "data": {
      "text/plain": [
       "<qiskit.providers.basicaer.basicaerjob.BasicAerJob at 0x7fa2bd8fe3d0>"
      ]
     },
     "execution_count": 5,
     "metadata": {},
     "output_type": "execute_result"
    }
   ],
   "source": [
    "from qiskit import qiskit, QuantumCircuit\n",
    "#Create a quantum circuit with 1 qubit and 1 classical bit.\n",
    "qc = QuantumCircuit(1,1)\n",
    "#Apply a NOT gate on qubit 0. \n",
    "qc.x(0)\n",
    "#Measure qubit 0  to classical bit 0.\n",
    "qc.measure(0,0)\n",
    "job = qiskit.execute(qc,qiskit.BasicAer.get_backend('qasm_simulator'))\n",
    "job"
   ]
  }
 ],
 "metadata": {
  "kernelspec": {
   "display_name": "Python 3 (ipykernel)",
   "language": "python",
   "name": "python3"
  },
  "language_info": {
   "codemirror_mode": {
    "name": "ipython",
    "version": 3
   },
   "file_extension": ".py",
   "mimetype": "text/x-python",
   "name": "python",
   "nbconvert_exporter": "python",
   "pygments_lexer": "ipython3",
   "version": "3.8.15"
  },
  "widgets": {
   "application/vnd.jupyter.widget-state+json": {
    "state": {},
    "version_major": 2,
    "version_minor": 0
   }
  }
 },
 "nbformat": 4,
 "nbformat_minor": 5
}
